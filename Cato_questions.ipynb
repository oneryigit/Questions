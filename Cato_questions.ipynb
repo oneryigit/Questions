{
  "cells": [
    {
      "cell_type": "markdown",
      "metadata": {
        "id": "view-in-github",
        "colab_type": "text"
      },
      "source": [
        "<a href=\"https://colab.research.google.com/github/oneryigit/network_analysis/blob/main/Cato_questions.ipynb\" target=\"_parent\"><img src=\"https://colab.research.google.com/assets/colab-badge.svg\" alt=\"Open In Colab\"/></a>"
      ]
    },
    {
      "cell_type": "markdown",
      "source": [
        "# Oner Yigit\n",
        "# 2/16/2025\n",
        "\n"
      ],
      "metadata": {
        "id": "l7tlFERdH2DP"
      }
    },
    {
      "cell_type": "code",
      "source": [
        "import numpy as np\n",
        "import pandas as pd\n"
      ],
      "metadata": {
        "id": "qnj1olRg3S-i"
      },
      "execution_count": 1,
      "outputs": []
    },
    {
      "cell_type": "markdown",
      "source": [
        "## Question 1"
      ],
      "metadata": {
        "id": "vtb4uHEgHUP-"
      }
    },
    {
      "cell_type": "code",
      "execution_count": 2,
      "metadata": {
        "id": "lIYdn1woOS1n"
      },
      "outputs": [],
      "source": [
        "# gini index (unweighted) formula\n",
        "\n",
        "def gini_index(incomes):\n",
        "    # Sorting incomes\n",
        "    incomes = np.sort(np.asarray(incomes))\n",
        "    #population size\n",
        "    n = incomes.size\n",
        "    # cumulative sums of incomes\n",
        "    cum_incomes = np.cumsum(incomes)\n",
        "    #  cumulative income positions\n",
        "    pos_sums = np.sum(cum_incomes)\n",
        "\n",
        "\n",
        "    # Gini index calculation\n",
        "    gini = (n + 1 - 2 * (pos_sums / cum_incomes[-1])) / n\n",
        "    return gini"
      ]
    },
    {
      "cell_type": "code",
      "source": [
        "#lets use an example:\n",
        "\n",
        "country= 'Russia'\n",
        "\n",
        "incomes = [0, 0, 0, 0, 100]\n",
        "print(\"Gini Index of \" f'{country} ' \"is\", gini_index(incomes))\n",
        "\n",
        "# income inequality is very high as among 5 people 4 people receive no income\n",
        "# while one person gets all the income.\n"
      ],
      "metadata": {
        "id": "qtSUN-LExsp5",
        "outputId": "7e9c4cdd-30d9-40a6-be05-ad1efc25bb55",
        "colab": {
          "base_uri": "https://localhost:8080/"
        }
      },
      "execution_count": 3,
      "outputs": [
        {
          "output_type": "stream",
          "name": "stdout",
          "text": [
            "Gini Index of Russia is 0.8\n"
          ]
        }
      ]
    },
    {
      "cell_type": "code",
      "source": [
        "# mean log deviation\n",
        "\n",
        "def mld(incomes):\n",
        "\n",
        "    incomes = np.asarray(incomes)\n",
        "\n",
        "    incomes[incomes == 0] = 1  # log 0 is undefined\n",
        "\n",
        "    #size\n",
        "    n = len(incomes)\n",
        "    #mean\n",
        "    mu = np.mean(incomes)\n",
        "    mld = np.mean(np.log(mu / incomes))\n",
        "\n",
        "    return mld"
      ],
      "metadata": {
        "id": "JL2sCUKIzsMB"
      },
      "execution_count": 4,
      "outputs": []
    },
    {
      "cell_type": "code",
      "source": [
        "#lets use an example:\n",
        "\n",
        "# Four people have an income of 1 and one person has 100.\n",
        "\n",
        "incomes = [1, 1, 1, 1, 100]\n",
        "\n",
        "results = mld(incomes)\n",
        "results"
      ],
      "metadata": {
        "id": "0u-mbYsn1FYm",
        "outputId": "b0cb7457-f2de-48d9-b4b7-eaaac65534b9",
        "colab": {
          "base_uri": "https://localhost:8080/"
        }
      },
      "execution_count": 5,
      "outputs": [
        {
          "output_type": "execute_result",
          "data": {
            "text/plain": [
              "2.113918949509654"
            ]
          },
          "metadata": {},
          "execution_count": 5
        }
      ]
    },
    {
      "cell_type": "code",
      "source": [
        "# weighted\n",
        "\n",
        "def w_gini_index(incomes, we):\n",
        "    incomes = np.array(incomes)\n",
        "    we = np.array(we)\n",
        "\n",
        "    # Get positions of incomes\n",
        "    indices = np.argsort(incomes)\n",
        "    incomes_sorted = incomes[indices]\n",
        "    we_sorted = we[indices]\n",
        "\n",
        "    # Weighted cumulative sums\n",
        "    we_sum = np.sum(incomes_sorted * we_sorted)\n",
        "    tot_weight = np.sum(we_sorted)\n",
        "    we_cum_tot = np.cumsum(we_sorted * incomes_sorted)\n",
        "    we_pos_sums = np.sum(we_sorted * we_cum_tot / we_sum)\n",
        "\n",
        "    # Weighted Gini calculation\n",
        "    gini = (tot_weight + 1 - 2 * we_pos_sums) / tot_weight\n",
        "    return gini\n"
      ],
      "metadata": {
        "id": "XmQj7nKV3FDC"
      },
      "execution_count": 6,
      "outputs": []
    },
    {
      "cell_type": "code",
      "source": [
        "# example\n",
        "incomes = [1, 1, 1, 1, 100] # income of a family\n",
        "\n",
        "we = [10, 10, 10, 10, 5] # household size\n",
        "\n",
        "weighted_gini = w_gini_index(incomes, we)\n",
        "\n",
        "weighted_gini\n",
        "\n",
        "# the large families have an income of 1 while a family of 5 has income of 100.\n",
        "# the result shows a high income inequality weighted by household size."
      ],
      "metadata": {
        "colab": {
          "base_uri": "https://localhost:8080/"
        },
        "id": "NS2j1hf4-6sZ",
        "outputId": "bc7257b1-d35e-4511-842c-05d378a69fd5"
      },
      "execution_count": 7,
      "outputs": [
        {
          "output_type": "execute_result",
          "data": {
            "text/plain": [
              "0.7176954732510288"
            ]
          },
          "metadata": {},
          "execution_count": 7
        }
      ]
    },
    {
      "cell_type": "markdown",
      "source": [
        "## Question 2"
      ],
      "metadata": {
        "id": "X7hI8qptHaav"
      }
    },
    {
      "cell_type": "code",
      "source": [
        "# calculating human developmet index\n",
        "\n",
        "def calc_hdi(le, mys, eys, gni):\n",
        "\n",
        "    # Constants UNDP min and max values\n",
        "    min_le, max_le = 20, 85 #life_expectancy min life_expectancy max\n",
        "    min_sch, max_mys = 0, 15 # min schooling, max mean schooling\n",
        "    max_eys = 18 # max_expected_schooling\n",
        "    min_gni, max_gni = 100, 75000 #GNI per capita\n",
        "\n",
        "    # Health index formula\n",
        "    h_idx = (le - min_le) / (max_le - min_le)\n",
        "\n",
        "    # Education index formula\n",
        "    mys_idx = (mys - min_sch) / (max_mys - min_sch)\n",
        "    eys_idx = (eys - min_sch) / (max_eys - min_sch)\n",
        "    ed_idx = (mys_idx + eys_idx) / 2\n",
        "\n",
        "    # Income index formula\n",
        "    i_idx = (np.log(gni) - np.log(min_gni)) / (np.log(max_gni) - np.log(min_gni))\n",
        "\n",
        "    # HDI calculation\n",
        "    hdi = (h_idx * ed_idx * i_idx) ** (1/3)\n",
        "    return hdi\n"
      ],
      "metadata": {
        "id": "N8GrjEZt4ccM"
      },
      "execution_count": 8,
      "outputs": []
    },
    {
      "cell_type": "code",
      "source": [
        "# Example Country X\n",
        "le = 72\n",
        "mys = 12\n",
        "eys = 16\n",
        "gni = 40000\n",
        "\n",
        "# HDI\n",
        "hdi = calc_hdi(le, mys, eys, gni)\n",
        "print(\"The Country X's HDI is:\", hdi)"
      ],
      "metadata": {
        "colab": {
          "base_uri": "https://localhost:8080/"
        },
        "id": "iQZlIael_nKl",
        "outputId": "39a56795-f80f-4de6-f04f-ecceeac12555"
      },
      "execution_count": 9,
      "outputs": [
        {
          "output_type": "stream",
          "name": "stdout",
          "text": [
            "The Country X's HDI is: 0.8487447297367349\n"
          ]
        }
      ]
    },
    {
      "cell_type": "markdown",
      "source": [
        "## Question 3"
      ],
      "metadata": {
        "id": "8TNFgqgDHhe4"
      }
    },
    {
      "cell_type": "code",
      "source": [
        "def calc_75(data, pops, regions):\n",
        "    results = {}\n",
        "    for region, countries in regions.items():\n",
        "        tot_pop = sum(pops.get(country, 0) for country in countries)\n",
        "        data_pop = sum(pops.get(country, 0) for country in countries if country in data)\n",
        "        results[region] = (data_pop / tot_pop) * 100 if tot_pop > 0 else 0\n",
        "    return results\n"
      ],
      "metadata": {
        "id": "9eBQR8xC_vxf"
      },
      "execution_count": 10,
      "outputs": []
    },
    {
      "cell_type": "code",
      "source": [
        "# Example Region\n",
        "\n",
        "data = {'Country1': True, 'Country2': True}  # Countries with data available\n",
        "pops = {'Country1': 100000, 'Country2': 200000, 'Country3': 150000}\n",
        "regions = {'Region1': ['Country1', 'Country2', 'Country3']}\n",
        "\n",
        "# Calculate representativeness\n",
        "rep = calc_75(data, pops, regions)\n",
        "print(rep)\n",
        "\n",
        "#'Region1': 66.666\n",
        "# Region1 does not meet the threshold for regional calculations\n"
      ],
      "metadata": {
        "colab": {
          "base_uri": "https://localhost:8080/"
        },
        "id": "dLwVk6v9GFUR",
        "outputId": "a3eb5b0f-0d84-4045-cad0-f8d3e7ae39d0"
      },
      "execution_count": 11,
      "outputs": [
        {
          "output_type": "stream",
          "name": "stdout",
          "text": [
            "{'Region1': 66.66666666666666}\n"
          ]
        }
      ]
    }
  ],
  "metadata": {
    "colab": {
      "provenance": [],
      "include_colab_link": true
    },
    "kernelspec": {
      "display_name": "Python 3",
      "name": "python3"
    }
  },
  "nbformat": 4,
  "nbformat_minor": 0
}